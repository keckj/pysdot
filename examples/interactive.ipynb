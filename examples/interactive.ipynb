{
 "cells": [
  {
   "cell_type": "code",
   "execution_count": 15,
   "metadata": {},
   "outputs": [
    {
     "data": {
      "application/vnd.jupyter.widget-view+json": {
       "model_id": "57d02fea8a9248569e41d716bfe843b6",
       "version_major": 2,
       "version_minor": 0
      },
      "text/plain": [
       "interactive(children=(FloatSlider(value=1.0, description='w0', max=1.1, min=0.9, step=0.001), FloatSlider(valu…"
      ]
     },
     "metadata": {},
     "output_type": "display_data"
    }
   ],
   "source": [
    "from pysdot.domain_types import ConvexPolyhedraAssembly\n",
    "from pysdot import PowerDiagram\n",
    "import ipywidgets\n",
    "import numpy as np\n",
    "\n",
    "# positions and weights\n",
    "nb_diracs = 10\n",
    "positions = np.random.rand(nb_diracs, 2)\n",
    "weights = np.ones(nb_diracs)\n",
    "\n",
    "# display\n",
    "sl0 = ipywidgets.widgets.FloatSlider(min=1-0.1,max=1+0.1,step=0.001,value=1.0)\n",
    "sl1 = ipywidgets.widgets.FloatSlider(min=1-0.1,max=1+0.1,step=0.001,value=1.0)\n",
    "@ipywidgets.interact(w0=sl0, w1=sl1)\n",
    "def disp(w0, w1):\n",
    "    weights[ 0 ] = w0\n",
    "    weights[ 1 ] = w1\n",
    "\n",
    "    domain = ConvexPolyhedraAssembly()\n",
    "    domain.add_box([0, 0], [1, 1])\n",
    "    \n",
    "    pd = PowerDiagram(domain)\n",
    "    pd.set_positions(positions)\n",
    "    pd.set_weights(weights)\n",
    "\n",
    "    # shift + wheel to zoom in/out\n",
    "    return pd.display_jupyter()"
   ]
  }
 ],
 "metadata": {
  "kernelspec": {
   "display_name": "Python 3",
   "language": "python",
   "name": "python3"
  },
  "language_info": {
   "codemirror_mode": {
    "name": "ipython",
    "version": 3
   },
   "file_extension": ".py",
   "mimetype": "text/x-python",
   "name": "python",
   "nbconvert_exporter": "python",
   "pygments_lexer": "ipython3",
   "version": "3.6.8"
  }
 },
 "nbformat": 4,
 "nbformat_minor": 2
}
